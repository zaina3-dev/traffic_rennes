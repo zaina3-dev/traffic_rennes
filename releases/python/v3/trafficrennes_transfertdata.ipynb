{
 "cells": [
  {
   "cell_type": "markdown",
   "metadata": {},
   "source": [
    "# TrafficRennes_TransfertData with stream\n",
    "Tranfert data from api traffic rennes to elasticsearch with stream-processing."
   ]
  },
  {
   "cell_type": "code",
   "execution_count": 1,
   "metadata": {},
   "outputs": [],
   "source": [
    "import time\n",
    "import requests\n",
    "import json"
   ]
  },
  {
   "cell_type": "code",
   "execution_count": null,
   "metadata": {},
   "outputs": [],
   "source": [
    "import trafficrennes_transfertdata_utils as utils"
   ]
  },
  {
   "cell_type": "markdown",
   "metadata": {},
   "source": [
    "### Connection elastic search"
   ]
  },
  {
   "cell_type": "code",
   "execution_count": null,
   "metadata": {
    "scrolled": false
   },
   "outputs": [],
   "source": [
    "# crée une connection elasticsearch\n",
    "es = utils.connect_elasticsearch()"
   ]
  },
  {
   "cell_type": "markdown",
   "metadata": {},
   "source": [
    "### Initialisation"
   ]
  },
  {
   "cell_type": "code",
   "execution_count": null,
   "metadata": {},
   "outputs": [],
   "source": [
    "# variables grlobales\n",
    "\n",
    "# nom de l'index\n",
    "index_name = \"python_traffic\"\n",
    "\n",
    "# ré-çrée l'index ou maj\n",
    "index_init = False\n",
    "\n",
    "# nombre de ligne par requête\n",
    "traffic_nb_rows = 10\n",
    "\n",
    "# niveau de confiance des données\n",
    "traffic_reliability = 5\n",
    "\n",
    "# intervalle de requêtage et temps maximale\n",
    "traffic_time_interval = 10\n",
    "traffic_time_max = 30\n",
    "\n",
    "# url\n",
    "traffic_url = \"https://data.rennesmetropole.fr/api/records/1.0/search/?dataset=etat-du-trafic-en-temps-reel&q=&rows=\"+str(traffic_nb_rows)\n",
    "\n",
    "print(\n",
    "    \"\\nInformations\",\n",
    "    \"\\n--> api traffic:\",\n",
    "    \"\\n----> url:\", traffic_url,\n",
    "    \"\\n----> nombre de lignes à prendre:\", traffic_nb_rows,\n",
    "    \"\\n----> reliability: >{}%\".format(traffic_reliability),\n",
    "    \"\\n----> rafraichissement: tous les {}s (max de {}s)\".format(traffic_time_interval, traffic_time_max),\n",
    "    \"\\n--> elasticsearch index:\", index_name\n",
    ")"
   ]
  },
  {
   "cell_type": "markdown",
   "metadata": {},
   "source": [
    "### Initialisation de l'index et mapping\n",
    "Méthodologie à adopter pour `index_init` :\n",
    "* True : si on crée un nouvel index\n",
    "* False : si on met à jour directement l'index existant"
   ]
  },
  {
   "cell_type": "code",
   "execution_count": null,
   "metadata": {},
   "outputs": [],
   "source": [
    "print(f\"\\nGestion de l'index '{index_name}'\")\n",
    "\n",
    "index_create = False\n",
    "if not index_init:\n",
    "    if es.indices.exists(index=index_name):\n",
    "        index_init_text = \"mise à jour\"\n",
    "    else:\n",
    "        index_create = True\n",
    "        index_init_text = \"création\"\n",
    "else:\n",
    "    index_create = True\n",
    "    if es.indices.exists(index=index_name):\n",
    "        index_init_text = \"remplacement (après suppression)\"\n",
    "        es.indices.delete(index=index_name)\n",
    "    else:\n",
    "        index_init_text = \"création\"\n",
    "\n",
    "print(\"--> opéation à réaliser sur l'index:\", index_init_text)"
   ]
  },
  {
   "cell_type": "code",
   "execution_count": null,
   "metadata": {},
   "outputs": [],
   "source": [
    "# mappings pour les coordonnées geospatiales\n",
    "req_body = {\n",
    "    \"mappings\": {\n",
    "        \"properties\": {\n",
    "            \"fields\": {\n",
    "                \"properties\": {\n",
    "                    # fields.geo_point_2d\n",
    "                    \"geo_point_2d\": { \"type\":\"geo_point\" },\n",
    "                    \n",
    "                    # fields.geo_shape\n",
    "                    \"geo_shape\": { \"type\":\"geo_shape\" }\n",
    "                }\n",
    "            },\n",
    "            \n",
    "            \"geometry\": {\n",
    "                \"properties\": {\n",
    "                    # geometry.coordinates\n",
    "                    \"coordinates\": { \"type\":\"geo_point\" }\n",
    "                 }\n",
    "             }\n",
    "        }\n",
    "    }\n",
    "}\n",
    "\n",
    "# crée l'índex vide\n",
    "if index_create:\n",
    "    es.indices.create(index=index_name, body=req_body)\n",
    "    print(\"--> index bien créé!\")\n",
    "    \n",
    "nb_rows_elastic1 = es.count(index=index_name)[\"count\"]\n",
    "print(\"--> nombre de documents dans l'index:\", nb_rows_elastic1)"
   ]
  },
  {
   "cell_type": "markdown",
   "metadata": {},
   "source": [
    "# Stream-processing / Loop"
   ]
  },
  {
   "cell_type": "code",
   "execution_count": null,
   "metadata": {},
   "outputs": [],
   "source": [
    "traffic_nb_requete = int(traffic_time_max / traffic_time_interval)\n",
    "print(f\"- stream-config: il y aura {traffic_nb_requete} requêtes à faire tous les {traffic_time_interval}s\")"
   ]
  },
  {
   "cell_type": "code",
   "execution_count": null,
   "metadata": {},
   "outputs": [],
   "source": [
    "print(\"- stream-starts:\", time.strftime(\"%Y/%m/%d %H:%M:%S\"))\n",
    "cpt = 1\n",
    "while cpt <= traffic_nb_requete:\n",
    "    print(f\"\\n--- Requête {cpt}/{traffic_nb_requete} ---\")\n",
    "    print(\"- lancement:\", time.strftime(\"%Y/%m/%d %H:%M:%S\"))\n",
    "\n",
    "    ### Import depuis l'api traffic\n",
    "    print(\"\\n- API traffic\")\n",
    "\n",
    "    # get\n",
    "    traffic = requests.get(traffic_url)\n",
    "    if traffic.status_code == 200:\n",
    "        print(\"--> requête ok!\")\n",
    "    else:\n",
    "        print(\"--> requête non-ok!\")\n",
    "        print(\"----> erreur :\", traffic.status_code)\n",
    "\n",
    "    # les données\n",
    "    data_json = traffic.json()\n",
    "    data = data_json[\"records\"]\n",
    "    nb_rows1 = len(data)\n",
    "    print(f\"--> nombre de documents importés: {nb_rows1}/{traffic_nb_rows}\")\n",
    "\n",
    "    ### Data processing\n",
    "    print(\"\\n- Qualité des données\")\n",
    "\n",
    "    print(\"--> reliability...\")\n",
    "    data = [i for i in data if i[\"fields\"][\"traveltimereliability\"] >= traffic_reliability]\n",
    "\n",
    "    nb_rows2 = len(data)\n",
    "    nb_rows3 = nb_rows1 - nb_rows2\n",
    "    print(f\"----> nombre de documents restants: {nb_rows2}/{nb_rows1} ({nb_rows3} supprimés)\")\n",
    "\n",
    "    ### Export vers elasticsearch\n",
    "    print(\"\\n- Export vers elasticsearch\")\n",
    "\n",
    "    # export vers elastic\n",
    "    print(\"--> export en cours...\")\n",
    "    i = es.count(index=index_name)['count'] + 1\n",
    "    j = 0\n",
    "    for doc_body in data:\n",
    "        req = es.index(index=index_name, id=i, doc_type='_doc', body=doc_body)\n",
    "        i = i + 1\n",
    "        j = j + 1\n",
    "    print(f\"----> nombre de documents exportés: {j}/{nb_rows2}\")\n",
    "\n",
    "    ### attente / rafraichissement\n",
    "    if cpt < traffic_nb_requete:\n",
    "        print(f\"\\n(--- attente-de-{traffic_time_interval}s-avant-nouvel-appel-api ---)\\n\")\n",
    "        time.sleep(traffic_time_interval)\n",
    "    cpt = cpt + 1\n",
    "\n",
    "print(\"\\n- stream-ends:\", time.strftime(\"%Y/%m/%d %H:%M:%S\"))"
   ]
  },
  {
   "cell_type": "code",
   "execution_count": null,
   "metadata": {
    "scrolled": true
   },
   "outputs": [],
   "source": [
    "time.sleep(3)\n",
    "nb_rows_elastic2 = es.count(index=index_name)[\"count\"]\n",
    "print(f\"--> nombre total de documents dans l'index: {nb_rows_elastic2}/{nb_rows_elastic1}\")"
   ]
  },
  {
   "cell_type": "code",
   "execution_count": null,
   "metadata": {
    "scrolled": true
   },
   "outputs": [],
   "source": [
    "print(\"FIN\")"
   ]
  },
  {
   "cell_type": "markdown",
   "metadata": {},
   "source": [
    "Note :\n",
    "les étapes 'import', 'data processing' et 'export' sont à placer dans un batch et à refaire en boucle."
   ]
  },
  {
   "cell_type": "markdown",
   "metadata": {},
   "source": [
    "----"
   ]
  }
 ],
 "metadata": {
  "kernelspec": {
   "display_name": "Python 3",
   "language": "python",
   "name": "python3"
  },
  "language_info": {
   "codemirror_mode": {
    "name": "ipython",
    "version": 3
   },
   "file_extension": ".py",
   "mimetype": "text/x-python",
   "name": "python",
   "nbconvert_exporter": "python",
   "pygments_lexer": "ipython3",
   "version": "3.9.2"
  }
 },
 "nbformat": 4,
 "nbformat_minor": 4
}
