{
 "cells": [
  {
   "cell_type": "code",
   "execution_count": 247,
   "metadata": {},
   "outputs": [],
   "source": [
    "import time\n",
    "import requests\n",
    "import json\n",
    "import logging\n",
    "from datetime import datetime\n",
    "from elasticsearch import Elasticsearch"
   ]
  },
  {
   "cell_type": "markdown",
   "metadata": {},
   "source": [
    "### Connection elastic search"
   ]
  },
  {
   "cell_type": "code",
   "execution_count": 206,
   "metadata": {},
   "outputs": [],
   "source": [
    "# test le port elasticsearch\n",
    "def connect_elasticsearch():\n",
    "    _es = None\n",
    "    _es = Elasticsearch([{'host': 'localhost', 'port': 9200}])\n",
    "    if _es.ping():\n",
    "        print('ElasticSearch est bien connecté')\n",
    "    else:\n",
    "        print('Pas de réponse')\n",
    "    return _es"
   ]
  },
  {
   "cell_type": "code",
   "execution_count": 207,
   "metadata": {
    "scrolled": true
   },
   "outputs": [
    {
     "name": "stdout",
     "output_type": "stream",
     "text": [
      "ElasticSearch est bien connecté\n"
     ]
    }
   ],
   "source": [
    "# crée une connection elasticsearch\n",
    "es = connect_elasticsearch()"
   ]
  },
  {
   "cell_type": "code",
   "execution_count": 208,
   "metadata": {},
   "outputs": [
    {
     "data": {
      "text/plain": [
       "{'name': '8be590a5377a',\n",
       " 'cluster_name': 'cluster-vincent',\n",
       " 'cluster_uuid': 'wr35sY1jR9CRZD2MgtWhjQ',\n",
       " 'version': {'number': '7.9.1',\n",
       "  'build_flavor': 'default',\n",
       "  'build_type': 'docker',\n",
       "  'build_hash': '083627f112ba94dffc1232e8b42b73492789ef91',\n",
       "  'build_date': '2020-09-01T21:22:21.964974Z',\n",
       "  'build_snapshot': False,\n",
       "  'lucene_version': '8.6.2',\n",
       "  'minimum_wire_compatibility_version': '6.8.0',\n",
       "  'minimum_index_compatibility_version': '6.0.0-beta1'},\n",
       " 'tagline': 'You Know, for Search'}"
      ]
     },
     "execution_count": 208,
     "metadata": {},
     "output_type": "execute_result"
    }
   ],
   "source": [
    "# infos connection\n",
    "dir(es)\n",
    "es.info()"
   ]
  },
  {
   "cell_type": "markdown",
   "metadata": {},
   "source": [
    "### Initialisation de l'index et mapping\n",
    "Méthodologie à adopter pour `init_process` :\n",
    "* True : si on crée un nouvel index\n",
    "* False : si on met à jour directement l'index existant"
   ]
  },
  {
   "cell_type": "code",
   "execution_count": 299,
   "metadata": {},
   "outputs": [],
   "source": [
    "init_process = True"
   ]
  },
  {
   "cell_type": "code",
   "execution_count": 300,
   "metadata": {},
   "outputs": [],
   "source": [
    "# nom de l'index\n",
    "index_name = \"python_traffic\""
   ]
  },
  {
   "cell_type": "code",
   "execution_count": 301,
   "metadata": {},
   "outputs": [],
   "source": [
    "#if init_process:"
   ]
  },
  {
   "cell_type": "code",
   "execution_count": 210,
   "metadata": {},
   "outputs": [
    {
     "name": "stdout",
     "output_type": "stream",
     "text": [
      "Index supprimé: python_traffic\n"
     ]
    }
   ],
   "source": [
    "# vérifie si l'index existe ou pas\n",
    "if es.indices.exists(index=index_name):\n",
    "    print(\"Index supprimé:\", index_name)\n",
    "    es.indices.delete(index=index_name)\n",
    "else:\n",
    "    print(\"Index non existant\")"
   ]
  },
  {
   "cell_type": "code",
   "execution_count": 209,
   "metadata": {},
   "outputs": [],
   "source": [
    "# mappings pour les coordonnées geospatiales\n",
    "req_body = {\n",
    "    \"mappings\": {\n",
    "        \"properties\": {\n",
    "            \"fields\": {\n",
    "                \"properties\": {\n",
    "                    # fields.geo_point_2d\n",
    "                    \"geo_point_2d\": { \"type\":\"geo_point\" },\n",
    "                    \n",
    "                    # fields.geo_shape\n",
    "                    \"geo_shape\": { \"type\":\"geo_shape\" }\n",
    "                }\n",
    "            },\n",
    "            \n",
    "            \"geometry\": {\n",
    "                \"properties\": {\n",
    "                    # geometry.coordinates\n",
    "                    \"coordinates\": { \"type\":\"geo_point\" }\n",
    "                 }\n",
    "             }\n",
    "        }\n",
    "    }\n",
    "}"
   ]
  },
  {
   "cell_type": "code",
   "execution_count": 211,
   "metadata": {
    "scrolled": true
   },
   "outputs": [
    {
     "data": {
      "text/plain": [
       "{'acknowledged': True, 'shards_acknowledged': True, 'index': 'python_traffic'}"
      ]
     },
     "execution_count": 211,
     "metadata": {},
     "output_type": "execute_result"
    }
   ],
   "source": [
    "# crée l'índex vide\n",
    "es.indices.create(index=index_name, body=req_body)"
   ]
  },
  {
   "cell_type": "markdown",
   "metadata": {},
   "source": [
    "### Import depuis l'api traffic"
   ]
  },
  {
   "cell_type": "code",
   "execution_count": 288,
   "metadata": {},
   "outputs": [],
   "source": [
    "# url\n",
    "nb_rows = 100\n",
    "traffic_url = \"https://data.rennesmetropole.fr/api/records/1.0/search/?dataset=etat-du-trafic-en-temps-reel&q=&rows=\"+str(nb_rows)"
   ]
  },
  {
   "cell_type": "code",
   "execution_count": 289,
   "metadata": {},
   "outputs": [
    {
     "name": "stdout",
     "output_type": "stream",
     "text": [
      "ok!\n"
     ]
    }
   ],
   "source": [
    "# get\n",
    "traffic = requests.get(traffic_url)\n",
    "if traffic.status_code==200:\n",
    "    print(\"ok!\")"
   ]
  },
  {
   "cell_type": "code",
   "execution_count": 290,
   "metadata": {},
   "outputs": [],
   "source": [
    "def jprint(obj):\n",
    "    text = json.dumps(obj, sort_keys=True, indent=4)\n",
    "    print(text)"
   ]
  },
  {
   "cell_type": "code",
   "execution_count": 291,
   "metadata": {},
   "outputs": [],
   "source": [
    "#jprint(traffic.json())"
   ]
  },
  {
   "cell_type": "code",
   "execution_count": 292,
   "metadata": {
    "scrolled": true
   },
   "outputs": [
    {
     "name": "stdout",
     "output_type": "stream",
     "text": [
      "Nombre de document importés: 100\n"
     ]
    }
   ],
   "source": [
    "# les données\n",
    "data_json = traffic.json()\n",
    "data = data_json[\"records\"]\n",
    "nb_rows2 = len(data)\n",
    "print(\"Nombre de document importés:\", nb_rows2)"
   ]
  },
  {
   "cell_type": "markdown",
   "metadata": {},
   "source": [
    "### Data processing"
   ]
  },
  {
   "cell_type": "code",
   "execution_count": 293,
   "metadata": {},
   "outputs": [],
   "source": [
    "#data[0][\"fields\"][\"traveltimereliability\"]"
   ]
  },
  {
   "cell_type": "code",
   "execution_count": 294,
   "metadata": {},
   "outputs": [],
   "source": [
    "# reliability >50%\n",
    "data = [i for i in data if i[\"fields\"][\"traveltimereliability\"]>=0]"
   ]
  },
  {
   "cell_type": "code",
   "execution_count": 295,
   "metadata": {},
   "outputs": [
    {
     "name": "stdout",
     "output_type": "stream",
     "text": [
      "Nombre de document supprimés: 0\n"
     ]
    }
   ],
   "source": [
    "nb_rows3 = len(data)\n",
    "print(\"Nombre de document supprimés:\", nb_rows2-nb_rows3)"
   ]
  },
  {
   "cell_type": "markdown",
   "metadata": {},
   "source": [
    "### Export vers elasticsearch"
   ]
  },
  {
   "cell_type": "code",
   "execution_count": 296,
   "metadata": {},
   "outputs": [
    {
     "name": "stdout",
     "output_type": "stream",
     "text": [
      "Nombre de document exportés: 100\n"
     ]
    }
   ],
   "source": [
    "# export vers elastic\n",
    "i = es.count(index=index_name)['count']+1\n",
    "j = 0\n",
    "for doc_body in data:\n",
    "    req = es.index(index=index_name, id=i, doc_type='_doc', body=doc_body)\n",
    "    i = i+1\n",
    "    j = j+1\n",
    "print(\"Nombre de document exportés:\", j)"
   ]
  },
  {
   "cell_type": "code",
   "execution_count": 297,
   "metadata": {},
   "outputs": [
    {
     "name": "stdout",
     "output_type": "stream",
     "text": [
      "Nombre de document total: 1410\n"
     ]
    }
   ],
   "source": [
    "time.sleep(3)\n",
    "print(\"Nombre de document total:\", es.count(index=index_name)[\"count\"])"
   ]
  },
  {
   "cell_type": "code",
   "execution_count": null,
   "metadata": {
    "scrolled": true
   },
   "outputs": [],
   "source": [
    "#es.get(index=index_name, doc_type='_doc', id=4)"
   ]
  },
  {
   "cell_type": "markdown",
   "metadata": {},
   "source": [
    "Note :\n",
    "les étapes 'import', 'data processing' et 'export' sont à placer dans un batch et à refaire en boucle."
   ]
  },
  {
   "cell_type": "markdown",
   "metadata": {},
   "source": [
    "----"
   ]
  }
 ],
 "metadata": {
  "kernelspec": {
   "display_name": "Python 3",
   "language": "python",
   "name": "python3"
  },
  "language_info": {
   "codemirror_mode": {
    "name": "ipython",
    "version": 3
   },
   "file_extension": ".py",
   "mimetype": "text/x-python",
   "name": "python",
   "nbconvert_exporter": "python",
   "pygments_lexer": "ipython3",
   "version": "3.8.5"
  }
 },
 "nbformat": 4,
 "nbformat_minor": 4
}
