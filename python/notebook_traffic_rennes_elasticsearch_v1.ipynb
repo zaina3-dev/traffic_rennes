{
 "cells": [
  {
   "cell_type": "code",
   "execution_count": 1,
   "metadata": {},
   "outputs": [],
   "source": [
    "import time\n",
    "import requests\n",
    "import json"
   ]
  },
  {
   "cell_type": "code",
   "execution_count": 2,
   "metadata": {},
   "outputs": [],
   "source": [
    "import utils\n",
    "#from importlib import reload"
   ]
  },
  {
   "cell_type": "markdown",
   "metadata": {},
   "source": [
    "### Connection elastic search"
   ]
  },
  {
   "cell_type": "code",
   "execution_count": 3,
   "metadata": {},
   "outputs": [
    {
     "name": "stdout",
     "output_type": "stream",
     "text": [
      "Connection à elasticsearch\n"
     ]
    }
   ],
   "source": [
    "print(\"Connection à elasticsearch\")"
   ]
  },
  {
   "cell_type": "code",
   "execution_count": 4,
   "metadata": {
    "scrolled": false
   },
   "outputs": [
    {
     "name": "stdout",
     "output_type": "stream",
     "text": [
      "--> elasticsearch bien connecté\n"
     ]
    }
   ],
   "source": [
    "# crée une connection elasticsearch\n",
    "es = utils.connect_elasticsearch()"
   ]
  },
  {
   "cell_type": "code",
   "execution_count": 5,
   "metadata": {},
   "outputs": [],
   "source": [
    "# infos connection\n",
    "#dir(es)\n",
    "#es.info()"
   ]
  },
  {
   "cell_type": "markdown",
   "metadata": {},
   "source": [
    "### Initialisation"
   ]
  },
  {
   "cell_type": "code",
   "execution_count": 24,
   "metadata": {},
   "outputs": [],
   "source": [
    "# variables grlobales\n",
    "\n",
    "# nom de l'index\n",
    "index_name = \"python_traffic\"\n",
    "\n",
    "# ré-çrée l'index ou maj\n",
    "index_init = False\n",
    "\n",
    "# nombre de ligne par requête\n",
    "traffic_nb_rows = 100\n",
    "\n",
    "# niveau de confiance des données\n",
    "traffic_reliability = 5\n",
    "\n",
    "# intervalle de requêtage et temps maximale\n",
    "traffic_time_interval = 10\n",
    "traffic_time_max = 30"
   ]
  },
  {
   "cell_type": "markdown",
   "metadata": {},
   "source": [
    "### Initialisation de l'index et mapping\n",
    "Méthodologie à adopter pour `index_init` :\n",
    "* True : si on crée un nouvel index\n",
    "* False : si on met à jour directement l'index existant"
   ]
  },
  {
   "cell_type": "code",
   "execution_count": 7,
   "metadata": {},
   "outputs": [
    {
     "name": "stdout",
     "output_type": "stream",
     "text": [
      "Gestion de l'index python_traffic\n"
     ]
    }
   ],
   "source": [
    "print(\"Gestion de l'index\", index_name)"
   ]
  },
  {
   "cell_type": "code",
   "execution_count": 8,
   "metadata": {},
   "outputs": [
    {
     "name": "stdout",
     "output_type": "stream",
     "text": [
      "--> opéation à réaliser sur l'index: mise à jour\n"
     ]
    }
   ],
   "source": [
    "index_create = False\n",
    "if not index_init:\n",
    "    if es.indices.exists(index=index_name):\n",
    "        index_init_text = \"mise à jour\"\n",
    "    else:\n",
    "        index_create = True\n",
    "        index_init_text = \"création\"\n",
    "else:\n",
    "    index_create = True\n",
    "    if es.indices.exists(index=index_name):\n",
    "        index_init_text = \"remplacement (après suppression)\"\n",
    "        es.indices.delete(index=index_name)\n",
    "    else:\n",
    "        index_init_text = \"création\"\n",
    "\n",
    "print(\"--> opéation à réaliser sur l'index:\", index_init_text)"
   ]
  },
  {
   "cell_type": "code",
   "execution_count": 9,
   "metadata": {},
   "outputs": [],
   "source": [
    "# mappings pour les coordonnées geospatiales\n",
    "req_body = {\n",
    "    \"mappings\": {\n",
    "        \"properties\": {\n",
    "            \"fields\": {\n",
    "                \"properties\": {\n",
    "                    # fields.geo_point_2d\n",
    "                    \"geo_point_2d\": { \"type\":\"geo_point\" },\n",
    "                    \n",
    "                    # fields.geo_shape\n",
    "                    \"geo_shape\": { \"type\":\"geo_shape\" }\n",
    "                }\n",
    "            },\n",
    "            \n",
    "            \"geometry\": {\n",
    "                \"properties\": {\n",
    "                    # geometry.coordinates\n",
    "                    \"coordinates\": { \"type\":\"geo_point\" }\n",
    "                 }\n",
    "             }\n",
    "        }\n",
    "    }\n",
    "}"
   ]
  },
  {
   "cell_type": "code",
   "execution_count": 10,
   "metadata": {
    "scrolled": true
   },
   "outputs": [],
   "source": [
    "# crée l'índex vide\n",
    "if index_create:\n",
    "    es.indices.create(index=index_name, body=req_body)\n",
    "    print(\"--> index bien créé!\")"
   ]
  },
  {
   "cell_type": "markdown",
   "metadata": {},
   "source": [
    "### Import depuis l'api traffic"
   ]
  },
  {
   "cell_type": "code",
   "execution_count": 11,
   "metadata": {},
   "outputs": [
    {
     "name": "stdout",
     "output_type": "stream",
     "text": [
      "API traffic\n"
     ]
    }
   ],
   "source": [
    "print(\"API traffic\")"
   ]
  },
  {
   "cell_type": "code",
   "execution_count": 12,
   "metadata": {},
   "outputs": [
    {
     "name": "stdout",
     "output_type": "stream",
     "text": [
      "--> url: https://data.rennesmetropole.fr/api/records/1.0/search/?dataset=etat-du-trafic-en-temps-reel&q=&rows=100\n"
     ]
    }
   ],
   "source": [
    "# url\n",
    "traffic_url = \"https://data.rennesmetropole.fr/api/records/1.0/search/?dataset=etat-du-trafic-en-temps-reel&q=&rows=\"+str(traffic_nb_rows)\n",
    "print(\"--> url:\", traffic_url)"
   ]
  },
  {
   "cell_type": "code",
   "execution_count": 13,
   "metadata": {},
   "outputs": [
    {
     "name": "stdout",
     "output_type": "stream",
     "text": [
      "--> requête ok!\n"
     ]
    }
   ],
   "source": [
    "# get\n",
    "traffic = requests.get(traffic_url)\n",
    "if traffic.status_code==200:\n",
    "    print(\"--> requête ok!\")\n",
    "else:\n",
    "    print(\"--> requête non-ok!\")\n",
    "    print(\"----> erreur :\", traffic.status_code)"
   ]
  },
  {
   "cell_type": "code",
   "execution_count": 14,
   "metadata": {
    "scrolled": true
   },
   "outputs": [
    {
     "name": "stdout",
     "output_type": "stream",
     "text": [
      "--> nombre de documents importés: 100/100\n"
     ]
    }
   ],
   "source": [
    "# les données\n",
    "data_json = traffic.json()\n",
    "data = data_json[\"records\"]\n",
    "nb_rows1 = len(data)\n",
    "print(f\"--> nombre de documents importés: {nb_rows1}/{traffic_nb_rows}\")"
   ]
  },
  {
   "cell_type": "markdown",
   "metadata": {},
   "source": [
    "### Data processing"
   ]
  },
  {
   "cell_type": "code",
   "execution_count": 15,
   "metadata": {},
   "outputs": [
    {
     "name": "stdout",
     "output_type": "stream",
     "text": [
      "Qualité des données\n"
     ]
    }
   ],
   "source": [
    "print(\"Qualité des données\")"
   ]
  },
  {
   "cell_type": "code",
   "execution_count": 16,
   "metadata": {},
   "outputs": [
    {
     "name": "stdout",
     "output_type": "stream",
     "text": [
      "--> reliability...\n"
     ]
    }
   ],
   "source": [
    "print(\"--> reliability...\")\n",
    "data = [i for i in data if i[\"fields\"][\"traveltimereliability\"]>=traffic_reliability]"
   ]
  },
  {
   "cell_type": "code",
   "execution_count": 17,
   "metadata": {},
   "outputs": [
    {
     "name": "stdout",
     "output_type": "stream",
     "text": [
      "----> nombre de documents restants: 85/100 (15 supprimés)\n"
     ]
    }
   ],
   "source": [
    "nb_rows2 = len(data)\n",
    "nb_rows3 = nb_rows1-nb_rows2\n",
    "print(f\"----> nombre de documents restants: {nb_rows2}/{nb_rows1} ({nb_rows3} supprimés)\")"
   ]
  },
  {
   "cell_type": "markdown",
   "metadata": {},
   "source": [
    "### Export vers elasticsearch"
   ]
  },
  {
   "cell_type": "code",
   "execution_count": 18,
   "metadata": {},
   "outputs": [
    {
     "name": "stdout",
     "output_type": "stream",
     "text": [
      "Export vers elasticsearch\n"
     ]
    }
   ],
   "source": [
    "print(\"Export vers elasticsearch\")"
   ]
  },
  {
   "cell_type": "code",
   "execution_count": 19,
   "metadata": {},
   "outputs": [
    {
     "name": "stdout",
     "output_type": "stream",
     "text": [
      "...\n",
      "----> nombre de documents exportés: 85/85\n"
     ]
    }
   ],
   "source": [
    "# export vers elastic\n",
    "print(\"...\")\n",
    "i = es.count(index=index_name)['count']+1\n",
    "j = 0\n",
    "for doc_body in data:\n",
    "    req = es.index(index=index_name, id=i, doc_type='_doc', body=doc_body)\n",
    "    i = i+1\n",
    "    j = j+1\n",
    "print(f\"----> nombre de documents exportés: {j}/{nb_rows2}\")"
   ]
  },
  {
   "cell_type": "code",
   "execution_count": 20,
   "metadata": {},
   "outputs": [
    {
     "name": "stdout",
     "output_type": "stream",
     "text": [
      "--> nombre total de documents dans l'index: 103\n"
     ]
    }
   ],
   "source": [
    "time.sleep(3)\n",
    "nb_rows4 = es.count(index=index_name)[\"count\"]\n",
    "print(\"--> nombre total de documents dans l'index:\", nb_rows4)"
   ]
  },
  {
   "cell_type": "code",
   "execution_count": 21,
   "metadata": {},
   "outputs": [
    {
     "name": "stdout",
     "output_type": "stream",
     "text": [
      "FIN\n"
     ]
    }
   ],
   "source": [
    "print(\"FIN\")"
   ]
  },
  {
   "cell_type": "code",
   "execution_count": 22,
   "metadata": {
    "scrolled": true
   },
   "outputs": [],
   "source": [
    "#es.get(index=index_name, doc_type='_doc', id=4)"
   ]
  },
  {
   "cell_type": "markdown",
   "metadata": {},
   "source": [
    "Note :\n",
    "les étapes 'import', 'data processing' et 'export' sont à placer dans un batch et à refaire en boucle."
   ]
  },
  {
   "cell_type": "markdown",
   "metadata": {},
   "source": [
    "----"
   ]
  }
 ],
 "metadata": {
  "kernelspec": {
   "display_name": "Python 3",
   "language": "python",
   "name": "python3"
  },
  "language_info": {
   "codemirror_mode": {
    "name": "ipython",
    "version": 3
   },
   "file_extension": ".py",
   "mimetype": "text/x-python",
   "name": "python",
   "nbconvert_exporter": "python",
   "pygments_lexer": "ipython3",
   "version": "3.8.5"
  }
 },
 "nbformat": 4,
 "nbformat_minor": 4
}
